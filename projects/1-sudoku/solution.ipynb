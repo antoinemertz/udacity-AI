{
 "cells": [
  {
   "cell_type": "code",
   "execution_count": 3,
   "metadata": {},
   "outputs": [],
   "source": [
    "\n",
    "from collections import defaultdict\n",
    "\n",
    "\n",
    "rows = 'ABCDEFGHI'\n",
    "cols = '123456789'\n",
    "boxes = [r + c for r in rows for c in cols]\n",
    "history = {}  # history must be declared here so that it exists in the assign_values scope\n",
    "\n",
    "\n",
    "def extract_units(unitlist, boxes):\n",
    "    \"\"\"Initialize a mapping from box names to the units that the boxes belong to\n",
    "\n",
    "    Parameters\n",
    "    ----------\n",
    "    unitlist(list)\n",
    "        a list containing \"units\" (rows, columns, diagonals, etc.) of boxes\n",
    "\n",
    "    boxes(list)\n",
    "        a list of strings identifying each box on a sudoku board (e.g., \"A1\", \"C7\", etc.)\n",
    "\n",
    "    Returns\n",
    "    -------\n",
    "    dict\n",
    "        a dictionary with a key for each box (string) whose value is a list\n",
    "        containing the units that the box belongs to (i.e., the \"member units\")\n",
    "    \"\"\"\n",
    "    # the value for keys that aren't in the dictionary are initialized as an empty list\n",
    "    units = defaultdict(list)\n",
    "    for current_box in boxes:\n",
    "        for unit in unitlist:\n",
    "            if current_box in unit:\n",
    "                # defaultdict avoids this raising a KeyError when new keys are added\n",
    "                units[current_box].append(unit)\n",
    "    return units\n",
    "\n",
    "\n",
    "def extract_peers(units, boxes):\n",
    "    \"\"\"Initialize a mapping from box names to a list of peer boxes (i.e., a flat list\n",
    "    of boxes that are in a unit together with the key box)\n",
    "\n",
    "    Parameters\n",
    "    ----------\n",
    "    units(dict)\n",
    "        a dictionary with a key for each box (string) whose value is a list\n",
    "        containing the units that the box belongs to (i.e., the \"member units\")\n",
    "\n",
    "    boxes(list)\n",
    "        a list of strings identifying each box on a sudoku board (e.g., \"A1\", \"C7\", etc.)\n",
    "\n",
    "    Returns\n",
    "    -------\n",
    "    dict\n",
    "        a dictionary with a key for each box (string) whose value is a set\n",
    "        containing all boxes that are peers of the key box (boxes that are in a unit\n",
    "        together with the key box)\n",
    "    \"\"\"\n",
    "    # the value for keys that aren't in the dictionary are initialized as an empty list\n",
    "    peers = defaultdict(set)  # set avoids duplicates\n",
    "    for key_box in boxes:\n",
    "        for unit in units[key_box]:\n",
    "            for peer_box in unit:\n",
    "                if peer_box != key_box:\n",
    "                    # defaultdict avoids this raising a KeyError when new keys are added\n",
    "                    peers[key_box].add(peer_box)\n",
    "    return peers\n",
    "\n",
    "\n",
    "def assign_value(values, box, value):\n",
    "    \"\"\"You must use this function to update your values dictionary if you want to\n",
    "    try using the provided visualization tool. This function records each assignment\n",
    "    (in order) for later reconstruction.\n",
    "\n",
    "    Parameters\n",
    "    ----------\n",
    "    values(dict)\n",
    "        a dictionary of the form {'box_name': '123456789', ...}\n",
    "\n",
    "    Returns\n",
    "    -------\n",
    "    dict\n",
    "        The values dictionary with the naked twins eliminated from peers\n",
    "    \"\"\"\n",
    "    # Don't waste memory appending actions that don't actually change any values\n",
    "    if values[box] == value:\n",
    "        return values\n",
    "\n",
    "    prev = values2grid(values)\n",
    "    values[box] = value\n",
    "    if len(value) == 1:\n",
    "        history[values2grid(values)] = (prev, (box, value))\n",
    "    return values\n",
    "\n",
    "def cross(A, B):\n",
    "    \"\"\"Cross product of elements in A and elements in B \"\"\"\n",
    "    return [x+y for x in A for y in B]\n",
    "\n",
    "\n",
    "def values2grid(values):\n",
    "    \"\"\"Convert the dictionary board representation to as string\n",
    "\n",
    "    Parameters\n",
    "    ----------\n",
    "    values(dict)\n",
    "        a dictionary of the form {'box_name': '123456789', ...}\n",
    "\n",
    "    Returns\n",
    "    -------\n",
    "    a string representing a sudoku grid.\n",
    "        \n",
    "        Ex. '2.............62....1....7...6..8...3...9...7...6..4...4....8....52.............3'\n",
    "    \"\"\"\n",
    "    res = []\n",
    "    for r in rows:\n",
    "        for c in cols:\n",
    "            v = values[r + c]\n",
    "            res.append(v if len(v) == 1 else '.')\n",
    "    return ''.join(res)\n",
    "\n",
    "\n",
    "def grid2values(grid):\n",
    "    \"\"\"Convert grid into a dict of {square: char} with '123456789' for empties.\n",
    "\n",
    "    Parameters\n",
    "    ----------\n",
    "    grid(string)\n",
    "        a string representing a sudoku grid.\n",
    "        \n",
    "        Ex. '2.............62....1....7...6..8...3...9...7...6..4...4....8....52.............3'\n",
    "    \n",
    "    Returns\n",
    "    -------\n",
    "        A grid in dictionary form\n",
    "            Keys: The boxes, e.g., 'A1'\n",
    "            Values: The value in each box, e.g., '8'. If the box has no value,\n",
    "            then the value will be '123456789'.\n",
    "    \"\"\"\n",
    "    sudoku_grid = {}\n",
    "    for val, key in zip(grid, boxes):\n",
    "        if val == '.':\n",
    "            sudoku_grid[key] = '123456789'\n",
    "        else:\n",
    "            sudoku_grid[key] = val\n",
    "    return sudoku_grid\n",
    "\n",
    "\n",
    "def display(values):\n",
    "    \"\"\"Display the values as a 2-D grid.\n",
    "\n",
    "    Parameters\n",
    "    ----------\n",
    "        values(dict): The sudoku in dictionary form\n",
    "    \"\"\"\n",
    "    width = 1+max(len(values[s]) for s in boxes)\n",
    "    line = '+'.join(['-'*(width*3)]*3)\n",
    "    for r in rows:\n",
    "        print(''.join(values[r+c].center(width)+('|' if c in '36' else '')\n",
    "                      for c in cols))\n",
    "        if r in 'CF': print(line)\n",
    "    print()\n",
    "\n",
    "\n",
    "def reconstruct(values, history):\n",
    "    \"\"\"Returns the solution as a sequence of value assignments \n",
    "\n",
    "    Parameters\n",
    "    ----------\n",
    "    values(dict)\n",
    "        a dictionary of the form {'box_name': '123456789', ...}\n",
    "\n",
    "    history(dict)\n",
    "        a dictionary of the form {key: (key, (box, value))} encoding a linked\n",
    "        list where each element points to the parent and identifies the value\n",
    "        assignment that connects from the parent to the current state\n",
    "\n",
    "    Returns\n",
    "    -------\n",
    "    list\n",
    "        a list of (box, value) assignments that can be applied in order to the\n",
    "        starting Sudoku puzzle to reach the solution\n",
    "    \"\"\"\n",
    "    path = []\n",
    "    prev = values2grid(values)\n",
    "    while prev in history:\n",
    "        prev, step = history[prev]\n",
    "        path.append(step)\n",
    "    return path[::-1]\n"
   ]
  },
  {
   "cell_type": "markdown",
   "metadata": {},
   "source": [
    "### Solution"
   ]
  },
  {
   "cell_type": "code",
   "execution_count": 17,
   "metadata": {},
   "outputs": [],
   "source": [
    "row_units = [cross(r, cols) for r in rows]\n",
    "column_units = [cross(rows, c) for c in cols]\n",
    "square_units = [cross(rs, cs) for rs in ('ABC','DEF','GHI') for cs in ('123','456','789')]\n",
    "unitlist = row_units + column_units + square_units"
   ]
  },
  {
   "cell_type": "markdown",
   "metadata": {},
   "source": [
    "##### TODO"
   ]
  },
  {
   "cell_type": "code",
   "execution_count": 23,
   "metadata": {},
   "outputs": [],
   "source": [
    "# TODO: Update the unit list to add the new diagonal units\n",
    "first_diag = [x+y for x,y in zip(rows, cols)]\n",
    "second_diag = [x+y for x,y in zip(rows, cols[::-1])]\n",
    "unitlist = unitlist + [first_diag] + [second_diag]"
   ]
  },
  {
   "cell_type": "code",
   "execution_count": 24,
   "metadata": {},
   "outputs": [
    {
     "data": {
      "text/plain": [
       "[['A1', 'A2', 'A3', 'A4', 'A5', 'A6', 'A7', 'A8', 'A9'],\n",
       " ['B1', 'B2', 'B3', 'B4', 'B5', 'B6', 'B7', 'B8', 'B9'],\n",
       " ['C1', 'C2', 'C3', 'C4', 'C5', 'C6', 'C7', 'C8', 'C9'],\n",
       " ['D1', 'D2', 'D3', 'D4', 'D5', 'D6', 'D7', 'D8', 'D9'],\n",
       " ['E1', 'E2', 'E3', 'E4', 'E5', 'E6', 'E7', 'E8', 'E9'],\n",
       " ['F1', 'F2', 'F3', 'F4', 'F5', 'F6', 'F7', 'F8', 'F9'],\n",
       " ['G1', 'G2', 'G3', 'G4', 'G5', 'G6', 'G7', 'G8', 'G9'],\n",
       " ['H1', 'H2', 'H3', 'H4', 'H5', 'H6', 'H7', 'H8', 'H9'],\n",
       " ['I1', 'I2', 'I3', 'I4', 'I5', 'I6', 'I7', 'I8', 'I9'],\n",
       " ['A1', 'B1', 'C1', 'D1', 'E1', 'F1', 'G1', 'H1', 'I1'],\n",
       " ['A2', 'B2', 'C2', 'D2', 'E2', 'F2', 'G2', 'H2', 'I2'],\n",
       " ['A3', 'B3', 'C3', 'D3', 'E3', 'F3', 'G3', 'H3', 'I3'],\n",
       " ['A4', 'B4', 'C4', 'D4', 'E4', 'F4', 'G4', 'H4', 'I4'],\n",
       " ['A5', 'B5', 'C5', 'D5', 'E5', 'F5', 'G5', 'H5', 'I5'],\n",
       " ['A6', 'B6', 'C6', 'D6', 'E6', 'F6', 'G6', 'H6', 'I6'],\n",
       " ['A7', 'B7', 'C7', 'D7', 'E7', 'F7', 'G7', 'H7', 'I7'],\n",
       " ['A8', 'B8', 'C8', 'D8', 'E8', 'F8', 'G8', 'H8', 'I8'],\n",
       " ['A9', 'B9', 'C9', 'D9', 'E9', 'F9', 'G9', 'H9', 'I9'],\n",
       " ['A1', 'A2', 'A3', 'B1', 'B2', 'B3', 'C1', 'C2', 'C3'],\n",
       " ['A4', 'A5', 'A6', 'B4', 'B5', 'B6', 'C4', 'C5', 'C6'],\n",
       " ['A7', 'A8', 'A9', 'B7', 'B8', 'B9', 'C7', 'C8', 'C9'],\n",
       " ['D1', 'D2', 'D3', 'E1', 'E2', 'E3', 'F1', 'F2', 'F3'],\n",
       " ['D4', 'D5', 'D6', 'E4', 'E5', 'E6', 'F4', 'F5', 'F6'],\n",
       " ['D7', 'D8', 'D9', 'E7', 'E8', 'E9', 'F7', 'F8', 'F9'],\n",
       " ['G1', 'G2', 'G3', 'H1', 'H2', 'H3', 'I1', 'I2', 'I3'],\n",
       " ['G4', 'G5', 'G6', 'H4', 'H5', 'H6', 'I4', 'I5', 'I6'],\n",
       " ['G7', 'G8', 'G9', 'H7', 'H8', 'H9', 'I7', 'I8', 'I9'],\n",
       " ['A1', 'B2', 'C3', 'D4', 'E5', 'F6', 'G7', 'H8', 'I9'],\n",
       " ['A9', 'B8', 'C7', 'D6', 'E5', 'F4', 'G3', 'H2', 'I1']]"
      ]
     },
     "execution_count": 24,
     "metadata": {},
     "output_type": "execute_result"
    }
   ],
   "source": [
    "unitlist"
   ]
  },
  {
   "cell_type": "code",
   "execution_count": 25,
   "metadata": {},
   "outputs": [],
   "source": [
    "units = extract_units(unitlist, boxes)\n",
    "peers = extract_peers(units, boxes)"
   ]
  },
  {
   "cell_type": "code",
   "execution_count": 28,
   "metadata": {},
   "outputs": [],
   "source": [
    "diag_sudoku_grid = '2.............62....1....7...6..8...3...9...7...6..4...4....8....52.............3'"
   ]
  },
  {
   "cell_type": "code",
   "execution_count": 29,
   "metadata": {},
   "outputs": [
    {
     "name": "stdout",
     "output_type": "stream",
     "text": [
      "    2     123456789 123456789 |123456789 123456789 123456789 |123456789 123456789 123456789 \n",
      "123456789 123456789 123456789 |123456789 123456789     6     |    2     123456789 123456789 \n",
      "123456789 123456789     1     |123456789 123456789 123456789 |123456789     7     123456789 \n",
      "------------------------------+------------------------------+------------------------------\n",
      "123456789 123456789     6     |123456789 123456789     8     |123456789 123456789 123456789 \n",
      "    3     123456789 123456789 |123456789     9     123456789 |123456789 123456789     7     \n",
      "123456789 123456789 123456789 |    6     123456789 123456789 |    4     123456789 123456789 \n",
      "------------------------------+------------------------------+------------------------------\n",
      "123456789     4     123456789 |123456789 123456789 123456789 |    8     123456789 123456789 \n",
      "123456789 123456789     5     |    2     123456789 123456789 |123456789 123456789 123456789 \n",
      "123456789 123456789 123456789 |123456789 123456789 123456789 |123456789 123456789     3     \n",
      "()\n"
     ]
    }
   ],
   "source": [
    "display(grid2values(diag_sudoku_grid))"
   ]
  },
  {
   "cell_type": "code",
   "execution_count": 32,
   "metadata": {},
   "outputs": [],
   "source": [
    "values = grid2values(diag_sudoku_grid)"
   ]
  },
  {
   "cell_type": "code",
   "execution_count": 37,
   "metadata": {},
   "outputs": [
    {
     "data": {
      "text/plain": [
       "{'A3', 'A4', 'A5', 'A6', 'A7', 'A8', 'A9', 'B1', 'B2', 'B3', 'C1', 'C2', 'C3'}"
      ]
     },
     "execution_count": 37,
     "metadata": {},
     "output_type": "execute_result"
    }
   ],
   "source": [
    "peers[\"A1\"].intersection(peers[\"A2\"])"
   ]
  },
  {
   "cell_type": "code",
   "execution_count": 38,
   "metadata": {},
   "outputs": [
    {
     "data": {
      "text/plain": [
       "'2345'"
      ]
     },
     "execution_count": 38,
     "metadata": {},
     "output_type": "execute_result"
    }
   ],
   "source": [
    "'12345'.replace('1', '')"
   ]
  },
  {
   "cell_type": "code",
   "execution_count": 41,
   "metadata": {},
   "outputs": [
    {
     "data": {
      "text/plain": [
       "'123'"
      ]
     },
     "execution_count": 41,
     "metadata": {},
     "output_type": "execute_result"
    }
   ],
   "source": []
  },
  {
   "cell_type": "code",
   "execution_count": null,
   "metadata": {},
   "outputs": [],
   "source": []
  }
 ],
 "metadata": {
  "kernelspec": {
   "display_name": "Python 2",
   "language": "python",
   "name": "python2"
  },
  "language_info": {
   "codemirror_mode": {
    "name": "ipython",
    "version": 2
   },
   "file_extension": ".py",
   "mimetype": "text/x-python",
   "name": "python",
   "nbconvert_exporter": "python",
   "pygments_lexer": "ipython2",
   "version": "2.7.16"
  }
 },
 "nbformat": 4,
 "nbformat_minor": 2
}
